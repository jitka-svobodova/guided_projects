# import bokeh
from bokeh.plotting import figure, show

# bokeh.__version__

# f = figure()
# f.line([10,20,30,40,50],[60,70,80,40,50], line_width=12)
# show(f)

# z = figure(width=400, height=500)
# z.wedge(x=[1,2,3], y=[1,2,3], radius=0.2, start_angle=0.4, end_angle=5.2, color="black", alpha=0.7, direction="clock")
# show(z)

# x=[10,20,30,40]
# y=[10,60,75,30]

# # Circle glyph
# u = figure(width=400, height=500)
# u.line(x,y,line_width=2)
# # u.circle(x,y,fill_color="pink", size=9)
# u.scatter(x,y,fill_color="pink", size=9)
# show(u)

# Bar plot
g1 = figure(title = "Bar plot")
x = [1,2,3,4,5]
y = [5, 10, 1, 8, 0]
g1.hbar(x, right = y, height = 0.6)
show(g1)

# Vertical bar plot
g2 = figure(title = "Vertical bar plot")
x = [10,20,30]
y = [40, 50, 60]
g2.vbar(x, top = y, width = 0.6)
show(g2)

# Scatter plot
import random
g3 = figure(title = "Scatter plot")
x = [i for i in range(126)]
y = [random.random() + 2 for i in range(126)]
g3.scatter(x,y)
show(g3)

# Area plot
import numpy as np 
x = [10, 20, 30, 40, 50]
y1 = [2, 4, 7, 8, 9]
y2 = [1, 2, 3, 4, 5]
h = figure(width = 400, height = 400)
h.varea(x = x, y1 = y1, y2 = y2, fill_color = "blue")
show(h)

# Patch plot
w = figure(width = 400, height = 400)
w.patch(x = [1, 4, 6, 9], y = [2, 3, 7, 8], color = "navy")
show(w)

# Map geo data using bokeh
from bokeh.plotting import gmap
from bokeh.models import GMapOptions, ColumnDataSource
lat0 = 40.730610
lon0 = -73.935242
map_type = "hybrid"
zoom = 14

gmap_options = GMapOptions(lat = lat0, lng = lon0, map_type = map_type, zoom = zoom)
google_api_key = ""
google_map = gmap(google_api_key, gmap_options, title = "NYC map")
source1 = ColumnDataSource(data = dict(lat = [40.730610, 40.741, 40.75], lon = [-73.935242, -73.95, -73.97]))
x = "lon"
y = "lat"

size = 30
fill_color = "red"
fill_alpha = 1
google_map.scatter(marker = 'square', x = x, y = y, size = size, fill_color = fill_color, fill_alpha = fill_alpha, source = source1)
show(google_map)

